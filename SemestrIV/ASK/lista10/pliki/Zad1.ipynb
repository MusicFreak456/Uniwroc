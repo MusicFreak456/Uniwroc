{
 "metadata": {
  "language_info": {
   "codemirror_mode": {
    "name": "ipython",
    "version": 3
   },
   "file_extension": ".py",
   "mimetype": "text/x-python",
   "name": "python",
   "nbconvert_exporter": "python",
   "pygments_lexer": "ipython3",
   "version": "3.7.7"
  },
  "orig_nbformat": 2,
  "kernelspec": {
   "name": "python377jvsc74a57bd095fa1ebeff230ea133768fb07408c60af307b7e14c91a525f700db45407c11a2",
   "display_name": "Python 3.7.7 64-bit ('myenv': conda)"
  }
 },
 "nbformat": 4,
 "nbformat_minor": 2,
 "cells": [
  {
   "cell_type": "code",
   "execution_count": 99,
   "metadata": {},
   "outputs": [],
   "source": [
    "import random"
   ]
  },
  {
   "cell_type": "code",
   "execution_count": 100,
   "metadata": {},
   "outputs": [
    {
     "output_type": "stream",
     "name": "stdout",
     "text": [
      "2.669036000000009\n"
     ]
    }
   ],
   "source": [
    "jump_by_thousand_t = 1/50\n",
    "sum_of_times = 0;\n",
    "\n",
    "for i in range(0,10000):\n",
    "    start = random.randint(0,400)\n",
    "    end = random.randint(0,400)\n",
    "    sum_of_times += abs(end - start) * jump_by_thousand_t\n",
    "\n",
    "print(sum_of_times / 10000)"
   ]
  },
  {
   "cell_type": "code",
   "execution_count": null,
   "metadata": {},
   "outputs": [],
   "source": []
  }
 ]
}