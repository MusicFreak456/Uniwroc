{
 "metadata": {
  "language_info": {
   "codemirror_mode": {
    "name": "ipython",
    "version": 3
   },
   "file_extension": ".py",
   "mimetype": "text/x-python",
   "name": "python",
   "nbconvert_exporter": "python",
   "pygments_lexer": "ipython3",
   "version": "3.8.10"
  },
  "orig_nbformat": 2,
  "kernelspec": {
   "name": "python3810jvsc74a57bd040a589d4d6a9542f19d6d1c36a7f5e96d95c540b08e2cbb1cc6b32188033fbf6",
   "display_name": "Python 3.8.10 64-bit (windows store)"
  },
  "metadata": {
   "interpreter": {
    "hash": "40a589d4d6a9542f19d6d1c36a7f5e96d95c540b08e2cbb1cc6b32188033fbf6"
   }
  }
 },
 "nbformat": 4,
 "nbformat_minor": 2,
 "cells": [
  {
   "source": [
    "Wczytamy dane z pliku *zad3.csv*."
   ],
   "cell_type": "markdown",
   "metadata": {}
  },
  {
   "cell_type": "code",
   "execution_count": 1,
   "metadata": {},
   "outputs": [
    {
     "output_type": "execute_result",
     "data": {
      "text/plain": [
       "     A     B     C     D\n",
       "0   64  64.0  55.0  39.0\n",
       "1   28  28.0  43.0  38.0\n",
       "2   33  33.0  53.0  45.0\n",
       "3   83  83.0  18.0  44.0\n",
       "4   37  37.0  59.0  29.0\n",
       "5   31  31.0  32.0  30.0\n",
       "6   60  60.0  27.0  50.0\n",
       "7   40  40.0  30.0  63.0\n",
       "8   56  56.0  38.0  29.0\n",
       "9   45  45.0  25.0  31.0\n",
       "10  10  10.0  42.0  14.0\n",
       "11  26  26.0  45.0  48.0\n",
       "12  49  49.0  20.0  52.0\n",
       "13  25  25.0  46.0  38.0\n",
       "14  52   NaN  46.0   NaN\n",
       "15  62   NaN  36.0   NaN\n",
       "16  31   NaN   NaN   NaN\n",
       "17  25   NaN   NaN   NaN"
      ],
      "text/html": "<div>\n<style scoped>\n    .dataframe tbody tr th:only-of-type {\n        vertical-align: middle;\n    }\n\n    .dataframe tbody tr th {\n        vertical-align: top;\n    }\n\n    .dataframe thead th {\n        text-align: right;\n    }\n</style>\n<table border=\"1\" class=\"dataframe\">\n  <thead>\n    <tr style=\"text-align: right;\">\n      <th></th>\n      <th>A</th>\n      <th>B</th>\n      <th>C</th>\n      <th>D</th>\n    </tr>\n  </thead>\n  <tbody>\n    <tr>\n      <th>0</th>\n      <td>64</td>\n      <td>64.0</td>\n      <td>55.0</td>\n      <td>39.0</td>\n    </tr>\n    <tr>\n      <th>1</th>\n      <td>28</td>\n      <td>28.0</td>\n      <td>43.0</td>\n      <td>38.0</td>\n    </tr>\n    <tr>\n      <th>2</th>\n      <td>33</td>\n      <td>33.0</td>\n      <td>53.0</td>\n      <td>45.0</td>\n    </tr>\n    <tr>\n      <th>3</th>\n      <td>83</td>\n      <td>83.0</td>\n      <td>18.0</td>\n      <td>44.0</td>\n    </tr>\n    <tr>\n      <th>4</th>\n      <td>37</td>\n      <td>37.0</td>\n      <td>59.0</td>\n      <td>29.0</td>\n    </tr>\n    <tr>\n      <th>5</th>\n      <td>31</td>\n      <td>31.0</td>\n      <td>32.0</td>\n      <td>30.0</td>\n    </tr>\n    <tr>\n      <th>6</th>\n      <td>60</td>\n      <td>60.0</td>\n      <td>27.0</td>\n      <td>50.0</td>\n    </tr>\n    <tr>\n      <th>7</th>\n      <td>40</td>\n      <td>40.0</td>\n      <td>30.0</td>\n      <td>63.0</td>\n    </tr>\n    <tr>\n      <th>8</th>\n      <td>56</td>\n      <td>56.0</td>\n      <td>38.0</td>\n      <td>29.0</td>\n    </tr>\n    <tr>\n      <th>9</th>\n      <td>45</td>\n      <td>45.0</td>\n      <td>25.0</td>\n      <td>31.0</td>\n    </tr>\n    <tr>\n      <th>10</th>\n      <td>10</td>\n      <td>10.0</td>\n      <td>42.0</td>\n      <td>14.0</td>\n    </tr>\n    <tr>\n      <th>11</th>\n      <td>26</td>\n      <td>26.0</td>\n      <td>45.0</td>\n      <td>48.0</td>\n    </tr>\n    <tr>\n      <th>12</th>\n      <td>49</td>\n      <td>49.0</td>\n      <td>20.0</td>\n      <td>52.0</td>\n    </tr>\n    <tr>\n      <th>13</th>\n      <td>25</td>\n      <td>25.0</td>\n      <td>46.0</td>\n      <td>38.0</td>\n    </tr>\n    <tr>\n      <th>14</th>\n      <td>52</td>\n      <td>NaN</td>\n      <td>46.0</td>\n      <td>NaN</td>\n    </tr>\n    <tr>\n      <th>15</th>\n      <td>62</td>\n      <td>NaN</td>\n      <td>36.0</td>\n      <td>NaN</td>\n    </tr>\n    <tr>\n      <th>16</th>\n      <td>31</td>\n      <td>NaN</td>\n      <td>NaN</td>\n      <td>NaN</td>\n    </tr>\n    <tr>\n      <th>17</th>\n      <td>25</td>\n      <td>NaN</td>\n      <td>NaN</td>\n      <td>NaN</td>\n    </tr>\n  </tbody>\n</table>\n</div>"
     },
     "metadata": {},
     "execution_count": 1
    }
   ],
   "source": [
    "import pandas\n",
    "data_frame = pandas.read_csv(\"zad3.csv\")\n",
    "data_frame"
   ]
  },
  {
   "source": [
    "Jak widać, tym razem pracować będziemy z grupami, w których liczba próbek nie jest taka sama, dlatego zaczniemy od przekształcenia reprezentacji do wygodniejszej formy."
   ],
   "cell_type": "markdown",
   "metadata": {}
  },
  {
   "cell_type": "code",
   "execution_count": 2,
   "metadata": {},
   "outputs": [],
   "source": [
    "import numpy\n",
    "data = {}\n",
    "\n",
    "groups = data_frame.columns;\n",
    "\n",
    "for group in data_frame.columns:\n",
    "    data[group] = []\n",
    "    for x in data_frame[group]:\n",
    "        if not numpy.isnan(x):\n",
    "            data[group].append(x)"
   ]
  },
  {
   "source": [
    "Przeprowadzimy analizę wariancji (ANOVA), w celu ustalenia czy **średnia liczba ogłoszeń w trzech gazetach jest taka sama**. Inaczej:\n",
    "\n",
    "$$\n",
    "H_0 : x_{A\\bullet} = x_{B\\bullet} = x_{C\\bullet} = x_{D\\bullet}\n",
    "$$\n",
    "\n",
    "$$\n",
    "H_a : \\exists_{x _{i\\bullet}, x_{j\\bullet}, i \\neq j}\\  x_{i\\bullet}\\neq x_{j\\bullet}\n",
    "$$\n",
    "\n",
    "Wartości potrzebne do przeprowadzenia analizy można zaprezentować w postaci tabelki, w stosunku do pierwszego zadania zmieni się wzór na stopnie swobody, gdyż w każdej grupie jest ich inna liczba.\n",
    "\n",
    "| df         |  SS        | MS         | f                      |         |\n",
    "| ---------- | ---------- | ---------- | ---------------------- | ------- | \n",
    "| $I - 1$    | $SSA$      | $MSA$      | $\\frac{MSA}{MSE}$      | p-value |\n",
    "| $\\sum_{i=1}^I(J_i - 1)$ | $SSE$      | $MSE$      |           |         |\n",
    "\n",
    "gdzie $I$ oznacza liczbę grup, a $J_i$ obserwacji na $i$-tą grupę. Pierwszą i drugą kolumnę liczymy na podstawie danych, a każde kolejne na podstawie poprzednich.\n",
    "\n",
    "Korzystając ze wzorów z wykładu, na początku ustalimy wartość zmienności międzygrupowej $SSA$\n",
    "\n",
    "$$\n",
    "    SSA = \\sum_{i = 1}^I \\sum_{j = 1}^{J_i} \\ (x_{i\\bullet} - \\bar{x})^2\n",
    "$$\n",
    "\n",
    "gdzie \n",
    "\n",
    "$$\n",
    "    x_{i\\bullet} = \\frac{1}{J_i} \\sum_{j=1}^J x_{ij},\n",
    "$$\n",
    "\n",
    "$\\bar{x}$ średnią wszystkich obserwacji, czyli\n",
    "\n",
    "$$\n",
    "    \\bar{x} = \\frac{1}{\\sum_{i=1}^IJ_i} \\sum_{i,j} x_{ij}.\n",
    "$$\n",
    "\n",
    "Najpierw policzymy wartości potrzebnych średnich $x_{i\\bullet}$ i $\\bar{x}$\n"
   ],
   "cell_type": "markdown",
   "metadata": {}
  },
  {
   "cell_type": "code",
   "execution_count": 3,
   "metadata": {},
   "outputs": [
    {
     "output_type": "stream",
     "name": "stdout",
     "text": [
      "{'A': 42.05555555555556,\n 'B': 41.92857142857143,\n 'C': 38.4375,\n 'D': 39.285714285714285,\n 'global': 40.426835317460316}\n"
     ]
    }
   ],
   "source": [
    "from pprint import pprint\n",
    "means = {}\n",
    "\n",
    "for group in groups:\n",
    "    means[group] = numpy.mean(data[group])\n",
    "\n",
    "global_header = \"global\"\n",
    "\n",
    "means[global_header] = numpy.mean(list(means.values()))\n",
    "\n",
    "pprint(means)"
   ]
  },
  {
   "source": [
    "Po czym możemy przejść do wyznaczenia $SSA$"
   ],
   "cell_type": "markdown",
   "metadata": {}
  },
  {
   "cell_type": "code",
   "execution_count": 4,
   "metadata": {},
   "outputs": [
    {
     "output_type": "stream",
     "name": "stdout",
     "text": [
      "SSA =  160.871572927493\n"
     ]
    }
   ],
   "source": [
    "ssa = 0\n",
    "for group in groups:\n",
    "    ssa += len(data[group]) * (means[group] - means[global_header])**2\n",
    "\n",
    "print('SSA = ', ssa)"
   ]
  },
  {
   "source": [
    "Z wykładu wiemy że z dokładnością do stałej\n",
    "\n",
    "$$\n",
    "    SSA \\sim \\chi^2(I - 1)\n",
    "$$\n",
    "\n",
    "Teraz możemy przejść do wyznaczenia zmienności wewnątrzgrupowej $SSE$\n",
    "\n",
    "$$\n",
    "    SSE = \\sum_{i,j} (x_{ij} - x_{i\\bullet})^2\n",
    "$$"
   ],
   "cell_type": "markdown",
   "metadata": {}
  },
  {
   "cell_type": "code",
   "execution_count": 5,
   "metadata": {},
   "outputs": [
    {
     "output_type": "stream",
     "name": "stdout",
     "text": [
      "SSE =  14654.667658730157\n"
     ]
    }
   ],
   "source": [
    "sse = 0\n",
    "for group in groups:\n",
    "    for x in data[group]:\n",
    "        sse += (x - means[group])**2\n",
    "print(\"SSE = \", sse)"
   ]
  },
  {
   "source": [
    "Z wykładu wiemy, że\n",
    "\n",
    "$$\n",
    "    SSE \\sim \\chi^2 \\left( \\sum_{i=1}^I (J_i - 1) \\right)\n",
    "$$"
   ],
   "cell_type": "markdown",
   "metadata": {}
  },
  {
   "source": [
    "Następnie możemy przejść do wyznaczenia $MSA$ i $MSE$\n",
    "\n",
    "$$\n",
    "    MSA = \\frac{SSA}{I - 1}\n",
    "$$\n",
    "\n",
    "$$\n",
    "    MSE = \\frac{SSE}{\\sum_{i=1}^I (J_i - 1) },\n",
    "$$\n",
    "\n",
    "czyli odpowiednio $SSA$ i $SSE$ podzielone przez ich stopnie swobody."
   ],
   "cell_type": "markdown",
   "metadata": {}
  },
  {
   "cell_type": "code",
   "execution_count": 7,
   "metadata": {},
   "outputs": [
    {
     "output_type": "stream",
     "name": "stdout",
     "text": [
      "MSA =  53.62385764249766\nMSE =  252.66668377120962\n"
     ]
    }
   ],
   "source": [
    "deg_of_freedom_ssa = len(groups) - 1\n",
    "\n",
    "deg_of_freedom_sse = 0\n",
    "for group in groups:\n",
    "    deg_of_freedom_sse += len(data[group]) - 1\n",
    "\n",
    "msa = ssa / deg_of_freedom_ssa\n",
    "mse = sse / deg_of_freedom_sse\n",
    "\n",
    "print(\"MSA = \", msa)\n",
    "print(\"MSE = \", mse)"
   ]
  },
  {
   "source": [
    "Kolejnym krokiem jest wyznaczenia wartości $F$\n",
    "\n",
    "$$\n",
    "    f = \\frac{MSA}{MSE},\n",
    "$$\n",
    "\n",
    "a stąd, że\n",
    "\n",
    "$$\n",
    "    MSA \\sim \\frac{\\chi^2(I - 1)}{I - 1}\n",
    "$$\n",
    "i\n",
    "$$\n",
    "    MSE \\sim \\frac{ \\chi^2 \\left( \\sum_{i=1}^I (J_i - 1) \\right) }{\\sum_{i=1}^I (J_i - 1) }\n",
    "$$\n",
    "\n",
    "wnioskujemy następujące (przy założeniu że $H_0$ jest prawdziwe)\n",
    "\n",
    "$$\n",
    "    f = \\frac{MSA}{MSE} \\sim F \\left( J - 1, \\sum_{i=1}^I (J_i - 1) \\right),\n",
    "$$\n",
    "\n",
    "bo rozkład Fishera-Snedecore'a może być przedstawiony jako stosunek przeskalowanych rozkładów $\\chi^2$."
   ],
   "cell_type": "markdown",
   "metadata": {}
  },
  {
   "cell_type": "code",
   "execution_count": 8,
   "metadata": {},
   "outputs": [
    {
     "output_type": "stream",
     "name": "stdout",
     "text": [
      "f =  0.21223161218617256\n"
     ]
    }
   ],
   "source": [
    "f = msa / mse\n",
    "print(\"f = \", f)"
   ]
  },
  {
   "source": [
    "Możemy teraz policzyć wartości krytyczne dla tego rozkładu i wybranego obszaru krytycznego. Sprawdźmy jak wyglądałby on dla $\\alpha = 0.1$"
   ],
   "cell_type": "markdown",
   "metadata": {}
  },
  {
   "cell_type": "code",
   "execution_count": 9,
   "metadata": {},
   "outputs": [
    {
     "output_type": "stream",
     "name": "stdout",
     "text": [
      "Wartości skrajne:  (0.11663769974251183, 2.7635518374327885)\n"
     ]
    }
   ],
   "source": [
    "from scipy import stats\n",
    "\n",
    "f_critical = stats.f.interval(0.9, deg_of_freedom_ssa, deg_of_freedom_sse)\n",
    "print(\"Wartości skrajne: \", f_critical)"
   ]
  },
  {
   "source": [
    "Wartość naszego wyliczonego $f$ mieści się w tych przedziałach zatem nie ma powodu do odrzucenia hipotezy zerowej."
   ],
   "cell_type": "markdown",
   "metadata": {}
  }
 ]
}