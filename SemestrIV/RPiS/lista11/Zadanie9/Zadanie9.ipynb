{
 "metadata": {
  "language_info": {
   "codemirror_mode": {
    "name": "ipython",
    "version": 3
   },
   "file_extension": ".py",
   "mimetype": "text/x-python",
   "name": "python",
   "nbconvert_exporter": "python",
   "pygments_lexer": "ipython3",
   "version": "3.8.10"
  },
  "orig_nbformat": 2,
  "kernelspec": {
   "name": "python3810jvsc74a57bd040a589d4d6a9542f19d6d1c36a7f5e96d95c540b08e2cbb1cc6b32188033fbf6",
   "display_name": "Python 3.8.10 64-bit (windows store)"
  },
  "metadata": {
   "interpreter": {
    "hash": "40a589d4d6a9542f19d6d1c36a7f5e96d95c540b08e2cbb1cc6b32188033fbf6"
   }
  }
 },
 "nbformat": 4,
 "nbformat_minor": 2,
 "cells": [
  {
   "cell_type": "code",
   "execution_count": 1,
   "metadata": {},
   "outputs": [
    {
     "output_type": "execute_result",
     "data": {
      "text/plain": [
       "    Czas\n",
       "0   3150\n",
       "1   2669\n",
       "2   2860\n",
       "3   3033\n",
       "4   2364\n",
       "5   2423\n",
       "6   2862\n",
       "7   2575\n",
       "8   2843\n",
       "9   2827\n",
       "10  3161\n",
       "11  3134\n",
       "12  3124\n",
       "13  2570\n",
       "14  2959"
      ],
      "text/html": "<div>\n<style scoped>\n    .dataframe tbody tr th:only-of-type {\n        vertical-align: middle;\n    }\n\n    .dataframe tbody tr th {\n        vertical-align: top;\n    }\n\n    .dataframe thead th {\n        text-align: right;\n    }\n</style>\n<table border=\"1\" class=\"dataframe\">\n  <thead>\n    <tr style=\"text-align: right;\">\n      <th></th>\n      <th>Czas</th>\n    </tr>\n  </thead>\n  <tbody>\n    <tr>\n      <th>0</th>\n      <td>3150</td>\n    </tr>\n    <tr>\n      <th>1</th>\n      <td>2669</td>\n    </tr>\n    <tr>\n      <th>2</th>\n      <td>2860</td>\n    </tr>\n    <tr>\n      <th>3</th>\n      <td>3033</td>\n    </tr>\n    <tr>\n      <th>4</th>\n      <td>2364</td>\n    </tr>\n    <tr>\n      <th>5</th>\n      <td>2423</td>\n    </tr>\n    <tr>\n      <th>6</th>\n      <td>2862</td>\n    </tr>\n    <tr>\n      <th>7</th>\n      <td>2575</td>\n    </tr>\n    <tr>\n      <th>8</th>\n      <td>2843</td>\n    </tr>\n    <tr>\n      <th>9</th>\n      <td>2827</td>\n    </tr>\n    <tr>\n      <th>10</th>\n      <td>3161</td>\n    </tr>\n    <tr>\n      <th>11</th>\n      <td>3134</td>\n    </tr>\n    <tr>\n      <th>12</th>\n      <td>3124</td>\n    </tr>\n    <tr>\n      <th>13</th>\n      <td>2570</td>\n    </tr>\n    <tr>\n      <th>14</th>\n      <td>2959</td>\n    </tr>\n  </tbody>\n</table>\n</div>"
     },
     "metadata": {},
     "execution_count": 1
    }
   ],
   "source": [
    "import pandas\n",
    "\n",
    "data_frame = pandas.read_csv(\"zad9.csv\")\n",
    "data = data_frame[\"Czas\"]\n",
    "\n",
    "data_frame"
   ]
  },
  {
   "source": [
    "Mamy niewiele obserwacji i nie znamy wariancji, więc przybliżać będziemy rozkładem t-studenta.\n",
    "\n",
    "$$\n",
    "t = \\frac{\\bar{X} - \\mu }{S} \\sqrt{n - 1}\n",
    "$$\n",
    "\n",
    "Z wykładu wiemy, że \n",
    "\n",
    "$$\n",
    "    t \\sim T(n-1)\n",
    "$$\n",
    "\n",
    "chcemy żeby wartość znalazła się w przedziale ufności. Zatem dla ustalonego $\\alpha$\n",
    "\n",
    "$$\n",
    "t_{ \\frac{\\alpha}{2} } < \\frac{\\bar{X} - \\mu }{S} \\sqrt{n-1} < t_{ 1 - \\frac{\\alpha}{2} }\n",
    "$$\n",
    "\n",
    "czyli\n",
    "\n",
    "$$\n",
    "\\bar{X} - t_{ 1 - \\frac{\\alpha}{2} } \\frac{S}{\\sqrt{n - 1}} < \\mu < \\bar{X} - t_{ \\frac{\\alpha}{2} } \\frac{S}{\\sqrt{n - 1}}\n",
    "$$.\n",
    "\n",
    "Policzymy wszyskie potrzebne wartości, najpierw $n$ i $\\bar{X}$\n"
   ],
   "cell_type": "markdown",
   "metadata": {}
  },
  {
   "cell_type": "code",
   "execution_count": 2,
   "metadata": {},
   "outputs": [
    {
     "output_type": "stream",
     "name": "stdout",
     "text": [
      "n =  15\nŚrednia =  2836.9333333333334\n"
     ]
    }
   ],
   "source": [
    "import numpy\n",
    "\n",
    "n = len(data)\n",
    "print(\"n = \", n);\n",
    "\n",
    "mean = numpy.mean(data)\n",
    "print(\"Średnia = \", mean)"
   ]
  },
  {
   "source": [
    "Następnie wartość $S$\n",
    "\n",
    "$$\n",
    "    S = \\sqrt{ \\frac{1}{n} \\sum_{k=1}^{n} (X_k - \\bar{X})^2 }\n",
    "$$"
   ],
   "cell_type": "markdown",
   "metadata": {}
  },
  {
   "cell_type": "code",
   "execution_count": 3,
   "metadata": {},
   "outputs": [
    {
     "output_type": "stream",
     "name": "stdout",
     "text": [
      "S =  257.0855802170856\n"
     ]
    }
   ],
   "source": [
    "import math\n",
    "\n",
    "S = 0\n",
    "for x in data:\n",
    "    S += (x - mean)**2\n",
    "S = S / n\n",
    "S = math.sqrt(S)\n",
    "\n",
    "print(\"S = \", S)"
   ]
  },
  {
   "source": [
    "Kolejnym krokiem jest wyznaczenie wartości krytycznych $t_{ \\frac{\\alpha}{2} }$ oraz $t_{ 1 - \\frac{\\alpha}{2} }$. Ustalmy poziom istotności $\\alpha = 0.1$.\n"
   ],
   "cell_type": "markdown",
   "metadata": {}
  },
  {
   "cell_type": "code",
   "execution_count": 4,
   "metadata": {},
   "outputs": [
    {
     "output_type": "execute_result",
     "data": {
      "text/plain": [
       "(-1.7613101357748566, 1.7613101357748562)"
      ]
     },
     "metadata": {},
     "execution_count": 4
    }
   ],
   "source": [
    "from scipy import stats\n",
    "\n",
    "a = 0.1\n",
    "critical_values = stats.t.interval(1-a, n-1)\n",
    "critical_values"
   ]
  },
  {
   "source": [
    "Zatem $t_{ \\frac{\\alpha}{2} } \\approx -1.76$ oraz $t_{ 1 - \\frac{\\alpha}{2} } \\approx 1.76$"
   ],
   "cell_type": "markdown",
   "metadata": {}
  },
  {
   "cell_type": "code",
   "execution_count": 5,
   "metadata": {},
   "outputs": [
    {
     "output_type": "stream",
     "name": "stdout",
     "text": [
      "Lewe ograniczenie:  2715.915455053376\nPrawe ograniczenie:  2957.951211613291\n"
     ]
    }
   ],
   "source": [
    "fl, fp = critical_values\n",
    "left_bound = mean - ( fp * ( S / math.sqrt(n-1) ) )\n",
    "rigt_bound = mean - ( fl * ( S / math.sqrt(n-1) ) )\n",
    "\n",
    "print(\"Lewe ograniczenie: \", left_bound)\n",
    "print(\"Prawe ograniczenie: \", rigt_bound)"
   ]
  },
  {
   "source": [
    "Czyli nasz przedział ufności dla średniej $\\mu$ przy poziomie ufności $\\alpha = 0.1$ to w przybliżeniu $(2715.91, 2957.95)$"
   ],
   "cell_type": "markdown",
   "metadata": {}
  },
  {
   "source": [
    "W kolejnej części zadania obliczymy $p\\_value$ dla wybranych $\\mu_0$. Wzór na test statystyczny to\n",
    "\n",
    "$$\n",
    "    t = \\frac{\\bar{X} - \\mu_0 }{S} \\sqrt{n - 1}\n",
    "$$\n",
    "\n",
    "$$\n",
    "    t \\sim T(n-1)\n",
    "$$"
   ],
   "cell_type": "markdown",
   "metadata": {}
  },
  {
   "cell_type": "code",
   "execution_count": 6,
   "metadata": {},
   "outputs": [
    {
     "output_type": "stream",
     "name": "stdout",
     "text": [
      "t_0 =  -0.04463267047656822\nt_1 =  -0.1901739872479892\nt_2 =  -0.5540272791765417\n"
     ]
    }
   ],
   "source": [
    "mu_0 = 2840\n",
    "mu_1 = 2850\n",
    "mu_2 = 2875\n",
    "\n",
    "t_0 = ( (mean - mu_0) * math.sqrt(n-1) ) / S\n",
    "t_1 = ( (mean - mu_1) * math.sqrt(n-1) ) / S\n",
    "t_2 = ( (mean - mu_2) * math.sqrt(n-1) ) / S\n",
    "\n",
    "print(\"t_0 = \", t_0)\n",
    "print(\"t_1 = \", t_1)\n",
    "print(\"t_2 = \", t_2)"
   ]
  },
  {
   "source": [
    "Otrzymaliśmy same ujemne wartości zatem licząc $p\\_value$ musimy policzyć pole \"na lewo\" od $t$ i pomnożyć razy dwa, bo rozkład t-studenta jest symetryczny\n",
    "\n",
    "$$\n",
    "    p\\_value = 2 * F(t)\n",
    "$$\n"
   ],
   "cell_type": "markdown",
   "metadata": {}
  },
  {
   "cell_type": "code",
   "execution_count": 11,
   "metadata": {},
   "outputs": [
    {
     "output_type": "stream",
     "name": "stdout",
     "text": [
      "p_value dla t_0 =  0.9650304721854002\np_value dla t_1 =  0.8519027195830752\np_value dla t_2 =  0.5883008855237514\n"
     ]
    }
   ],
   "source": [
    "p_value0 = 2 * stats.t.cdf(t_0, n-1)\n",
    "p_value1 = 2 * stats.t.cdf(t_1, n-1)\n",
    "p_value2 = 2 * stats.t.cdf(t_2, n-1)\n",
    "\n",
    "print(\"p_value dla t_0 = \", p_value0)\n",
    "print(\"p_value dla t_1 = \", p_value1)\n",
    "print(\"p_value dla t_2 = \", p_value2)"
   ]
  },
  {
   "source": [
    "Wszystkie te wartości mieściły się w naszym przedziale ufności dla średniej i ich $p\\_value$ również wskazuje na to że nie zostałyby odrzucone przy takim poziomie pewności."
   ],
   "cell_type": "markdown",
   "metadata": {}
  }
 ]
}