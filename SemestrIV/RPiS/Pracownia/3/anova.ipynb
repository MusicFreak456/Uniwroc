{
 "metadata": {
  "language_info": {
   "codemirror_mode": {
    "name": "ipython",
    "version": 3
   },
   "file_extension": ".py",
   "mimetype": "text/x-python",
   "name": "python",
   "nbconvert_exporter": "python",
   "pygments_lexer": "ipython3",
   "version": "3.8.10"
  },
  "orig_nbformat": 2,
  "kernelspec": {
   "name": "python3810jvsc74a57bd040a589d4d6a9542f19d6d1c36a7f5e96d95c540b08e2cbb1cc6b32188033fbf6",
   "display_name": "Python 3.8.10 64-bit (windows store)"
  },
  "metadata": {
   "interpreter": {
    "hash": "40a589d4d6a9542f19d6d1c36a7f5e96d95c540b08e2cbb1cc6b32188033fbf6"
   }
  }
 },
 "nbformat": 4,
 "nbformat_minor": 2,
 "cells": [
  {
   "cell_type": "code",
   "execution_count": 1,
   "metadata": {},
   "outputs": [],
   "source": [
    "import pandas\n",
    "from matplotlib import pyplot\n",
    "import numpy\n",
    "import math"
   ]
  },
  {
   "cell_type": "code",
   "execution_count": 2,
   "metadata": {},
   "outputs": [],
   "source": [
    "data_frame = pandas.read_csv(\"covid.csv\");\n",
    "\n",
    "de_data = data_frame.loc[data_frame['Country'] == 'Germany']\n",
    "de_new_cases = list(de_data[\"New_cases\"])[365:-5]\n",
    "\n",
    "ch_data = data_frame.loc[data_frame['Country'] == 'Switzerland']\n",
    "ch_new_cases = list(ch_data[\"New_cases\"])[365:-5]\n",
    "\n",
    "at_data = data_frame.loc[data_frame['Country'] == 'Austria']\n",
    "at_new_cases = list(at_data[\"New_cases\"])[365:-5]"
   ]
  },
  {
   "cell_type": "code",
   "execution_count": 3,
   "metadata": {},
   "outputs": [],
   "source": [
    "de_population = 83783942\n",
    "de_number_of_thousands = de_population / 1000\n",
    "\n",
    "ch_population = 8654622\n",
    "ch_number_of_thousands = ch_population / 1000\n",
    "\n",
    "at_population = 9006398\n",
    "at_number_of_thousands = at_population / 1000"
   ]
  },
  {
   "cell_type": "code",
   "execution_count": 4,
   "metadata": {},
   "outputs": [],
   "source": [
    "new_cases = {}\n",
    "countries = [\"de\", \"ch\", \"at\"]\n",
    "new_cases[\"de\"] = list( map( lambda x: x/de_number_of_thousands, de_new_cases ) )\n",
    "new_cases[\"ch\"] = list( map( lambda x: x/ch_number_of_thousands, ch_new_cases ) )\n",
    "new_cases[\"at\"] = list( map( lambda x: x/at_number_of_thousands, at_new_cases ) )"
   ]
  },
  {
   "cell_type": "code",
   "execution_count": 5,
   "metadata": {},
   "outputs": [
    {
     "output_type": "stream",
     "name": "stdout",
     "text": [
      "{'de': 0.1651155421614316, 'ch': 0.19466947229750978, 'at': 0.23042534047256136, 'global': 0.19673678497716754}\n"
     ]
    }
   ],
   "source": [
    "means = {}\n",
    "for country in countries:\n",
    "    means[country] = numpy.mean(new_cases[country])\n",
    "\n",
    "means[\"global\"] = numpy.mean( new_cases[\"de\"] + new_cases[\"ch\"] + new_cases[\"at\"])\n",
    "\n",
    "print(means)"
   ]
  },
  {
   "cell_type": "code",
   "execution_count": 6,
   "metadata": {},
   "outputs": [
    {
     "output_type": "stream",
     "name": "stdout",
     "text": [
      "SSA =  0.2759433259878531\n"
     ]
    }
   ],
   "source": [
    "ssa = 0\n",
    "for country in countries:\n",
    "    ssa += (means[country] - means[\"global\"])**2\n",
    "ssa *= len(new_cases[countries[0]])\n",
    "\n",
    "print('SSA = ', ssa)"
   ]
  },
  {
   "cell_type": "code",
   "execution_count": 7,
   "metadata": {},
   "outputs": [
    {
     "output_type": "stream",
     "name": "stdout",
     "text": [
      "SSE =  2.684417824477041\n"
     ]
    }
   ],
   "source": [
    "sse = 0\n",
    "for country in countries:\n",
    "    for x in new_cases[country]:\n",
    "        sse += (x - means[country])**2\n",
    "print(\"SSE = \", sse)"
   ]
  },
  {
   "cell_type": "code",
   "execution_count": 9,
   "metadata": {},
   "outputs": [
    {
     "output_type": "stream",
     "name": "stdout",
     "text": [
      "MSA =  0.13797166299392655\nMSE =  0.006990671417908961\n"
     ]
    }
   ],
   "source": [
    "deg_of_freedom_ssa = len(new_cases.keys()) - 1\n",
    "deg_of_freedom_sse = len(new_cases.keys()) * (len(new_cases[countries[0]]) - 1)\n",
    "\n",
    "msa = ssa / deg_of_freedom_ssa\n",
    "mse = sse / deg_of_freedom_sse\n",
    "\n",
    "print(\"MSA = \", msa)\n",
    "print(\"MSE = \", mse)"
   ]
  },
  {
   "cell_type": "code",
   "execution_count": 10,
   "metadata": {},
   "outputs": [
    {
     "output_type": "stream",
     "name": "stdout",
     "text": [
      "f =  19.736539560487085\n"
     ]
    }
   ],
   "source": [
    "f = msa / mse\n",
    "print(\"f = \", f)"
   ]
  },
  {
   "cell_type": "code",
   "execution_count": 12,
   "metadata": {},
   "outputs": [
    {
     "output_type": "stream",
     "name": "stdout",
     "text": [
      "p_value:  6.934899732194674e-09\n"
     ]
    }
   ],
   "source": [
    "from scipy import stats\n",
    "\n",
    "p_value = stats.f.sf(f, deg_of_freedom_ssa, deg_of_freedom_sse)\n",
    "print(\"p_value: \", p_value)"
   ]
  },
  {
   "cell_type": "code",
   "execution_count": null,
   "metadata": {},
   "outputs": [],
   "source": []
  }
 ]
}