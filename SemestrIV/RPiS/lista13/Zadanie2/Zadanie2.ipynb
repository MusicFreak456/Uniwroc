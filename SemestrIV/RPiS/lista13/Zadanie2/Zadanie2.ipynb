{
 "metadata": {
  "language_info": {
   "codemirror_mode": {
    "name": "ipython",
    "version": 3
   },
   "file_extension": ".py",
   "mimetype": "text/x-python",
   "name": "python",
   "nbconvert_exporter": "python",
   "pygments_lexer": "ipython3",
   "version": "3.8.10"
  },
  "orig_nbformat": 2,
  "kernelspec": {
   "name": "python3810jvsc74a57bd040a589d4d6a9542f19d6d1c36a7f5e96d95c540b08e2cbb1cc6b32188033fbf6",
   "display_name": "Python 3.8.10 64-bit (windows store)"
  },
  "metadata": {
   "interpreter": {
    "hash": "40a589d4d6a9542f19d6d1c36a7f5e96d95c540b08e2cbb1cc6b32188033fbf6"
   }
  }
 },
 "nbformat": 4,
 "nbformat_minor": 2,
 "cells": [
  {
   "source": [
    "Użyjemy testu znaków, niech głosy na kandydata $A$, oznaczają wartość 1, a na $B$ - 0. Teraz\n",
    "\n",
    "$$\n",
    "    H_0: M = 0.5\n",
    "$$\n",
    "\n",
    "$$\n",
    "    H_A: M > 0.5\n",
    "$$\n",
    "\n",
    "Czyli nasza hipoteza zerowa, to że tyle samo głosów zostało oddanych na obu kandydatów, a alternatywna że nie tyle samo i że na kandydata $A$ zostało oddanych ich więcej. \n",
    "\n",
    "Reszta wzorów taka sama jak w zadaniu poprzednim.\n",
    "\n",
    "$$\n",
    "    o_1, o_2 \\text{ -- obserwowane liczebności}\n",
    "$$\n",
    "\n",
    "$$\n",
    "    e_1, e_2 \\text{ -- teoretyczne liczebności }\n",
    "$$\n",
    "\n",
    "$$\n",
    "    e_1 = e_2 = \\frac{n}{2}\n",
    "$$\n",
    "\n",
    "Przy założeniu że hipoteza $H_0$ zachodzi:\n",
    "\n",
    "$$\n",
    "    \\frac{ ( o_1 - e_1 )^2 }{e_1} + \\frac{ ( o_2 - e_2 )^2 }{e_2} \\sim \\chi^2(1)\n",
    "$$"
   ],
   "cell_type": "markdown",
   "metadata": {}
  },
  {
   "cell_type": "code",
   "execution_count": 1,
   "metadata": {},
   "outputs": [
    {
     "output_type": "stream",
     "name": "stdout",
     "text": [
      "5.0\n"
     ]
    }
   ],
   "source": [
    "o_1 = 225\n",
    "o_2 = 275\n",
    "\n",
    "e = (o_1 + o_2) / 2 \n",
    "\n",
    "c = ( (o_1 - e)**2 / e ) + ( (o_2 - e)**2 / e )\n",
    "print(c)"
   ]
  },
  {
   "source": [
    "Policzymi p-value. Jest to test prawostronny, czyli liczymy pole na prawo od wartości statystyki równe $1 - F(c)$, czyli wartość funkcji nazywanej funkcją przeżycia (*survival function*), stąd `sf`."
   ],
   "cell_type": "markdown",
   "metadata": {}
  },
  {
   "cell_type": "code",
   "execution_count": 2,
   "metadata": {},
   "outputs": [
    {
     "output_type": "stream",
     "name": "stdout",
     "text": [
      "0.025347318677468325\n"
     ]
    }
   ],
   "source": [
    "from scipy import stats\n",
    "\n",
    "print(stats.chi2.sf(c,1))"
   ]
  },
  {
   "source": [
    "Otrzymaliśmy wartość mniejszą niż $\\alpha = 0.05$, zatem odrzucamy hipotezę zerową na korzyść hipotezy alternatywnej. Czyli możemy wyłonić zwycięzcę i jest nim $A$."
   ],
   "cell_type": "markdown",
   "metadata": {}
  }
 ]
}