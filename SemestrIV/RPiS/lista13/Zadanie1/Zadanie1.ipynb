{
 "metadata": {
  "language_info": {
   "codemirror_mode": {
    "name": "ipython",
    "version": 3
   },
   "file_extension": ".py",
   "mimetype": "text/x-python",
   "name": "python",
   "nbconvert_exporter": "python",
   "pygments_lexer": "ipython3",
   "version": "3.8.10"
  },
  "orig_nbformat": 2,
  "kernelspec": {
   "name": "python3810jvsc74a57bd040a589d4d6a9542f19d6d1c36a7f5e96d95c540b08e2cbb1cc6b32188033fbf6",
   "display_name": "Python 3.8.10 64-bit (windows store)"
  },
  "metadata": {
   "interpreter": {
    "hash": "40a589d4d6a9542f19d6d1c36a7f5e96d95c540b08e2cbb1cc6b32188033fbf6"
   }
  }
 },
 "nbformat": 4,
 "nbformat_minor": 2,
 "cells": [
  {
   "cell_type": "code",
   "execution_count": 1,
   "metadata": {},
   "outputs": [],
   "source": [
    "data = []\n",
    "with open(\"data1301.txt\", \"r\") as file:\n",
    "    for line in file:\n",
    "        data.append(float(line))"
   ]
  },
  {
   "cell_type": "code",
   "execution_count": 2,
   "metadata": {},
   "outputs": [
    {
     "output_type": "stream",
     "name": "stdout",
     "text": [
      "[8.82, 7.23, 8.5, 8.01, 7.85, 8.41, 8.35, 9.81, 7.55, 8.35, 9.27, 8.21, 9.54, 8.24, 9.13, 8.32, 8.04, 8.96, 7.77, 8.29, 8.09, 7.12, 8.57, 8.26, 7.25, 8.44, 7.05, 8.21, 10.47, 8.76, 7.72]\n"
     ]
    }
   ],
   "source": [
    "print(data)"
   ]
  },
  {
   "source": [
    "Z wykładu:\n",
    "\n",
    "$$\n",
    "    x_1, x_2, ... , x_n \\text{ -- niezależne obserwacje}\n",
    "$$\n",
    "\n",
    "$$\n",
    "    H_0: M = M_0\n",
    "$$\n",
    "\n",
    "$$\n",
    "    H_A: M \\neq M_0\n",
    "$$\n",
    "\n",
    "Wyznaczamy:\n",
    "\n",
    "$$\n",
    "    o_1, o_2 \\text{ -- obserwowane liczebności}\n",
    "$$\n",
    "\n",
    "$$\n",
    "    e_1, e_2 \\text{ -- teoretyczne liczebności }\n",
    "$$\n",
    "\n",
    "$$\n",
    "    e_1 = e_2 = \\frac{n}{2}\n",
    "$$\n",
    "\n",
    "Przy założeniu że hipoteza $H_0$ zachodzi:\n",
    "\n",
    "$$\n",
    "    \\frac{ ( o_1 - e_1 )^2 }{e_1} + \\frac{ ( o_2 - e_2 )^2 }{e_2} \\sim \\chi^2(1)\n",
    "$$"
   ],
   "cell_type": "markdown",
   "metadata": {}
  },
  {
   "cell_type": "code",
   "execution_count": 3,
   "metadata": {},
   "outputs": [],
   "source": [
    "o_1 = 0\n",
    "o_2 = 0\n",
    "m_0 = 7.75\n",
    "\n",
    "for x in data:\n",
    "    if x < m_0:\n",
    "        o_2 += 1\n",
    "    if x > m_0:\n",
    "        o_1 += 1"
   ]
  },
  {
   "cell_type": "code",
   "execution_count": 4,
   "metadata": {},
   "outputs": [
    {
     "output_type": "stream",
     "name": "stdout",
     "text": [
      "o1:  25\no2:  6\n"
     ]
    }
   ],
   "source": [
    "print(\"o1: \", o_1)\n",
    "print(\"o2: \", o_2)"
   ]
  },
  {
   "cell_type": "code",
   "execution_count": 5,
   "metadata": {},
   "outputs": [],
   "source": [
    "e = (o_1 + o_2) / 2 "
   ]
  },
  {
   "cell_type": "code",
   "execution_count": 6,
   "metadata": {},
   "outputs": [
    {
     "output_type": "stream",
     "name": "stdout",
     "text": [
      "11.64516129032258\n"
     ]
    }
   ],
   "source": [
    "c = ( (o_1 - e)**2 / e ) + ( (o_2 - e)**2 / e )\n",
    "print(c)"
   ]
  },
  {
   "source": [
    "Policzymy wartości krytyczne:"
   ],
   "cell_type": "markdown",
   "metadata": {}
  },
  {
   "cell_type": "code",
   "execution_count": 7,
   "metadata": {},
   "outputs": [
    {
     "output_type": "execute_result",
     "data": {
      "text/plain": [
       "(0.0009820691171752583, 5.023886187314888)"
      ]
     },
     "metadata": {},
     "execution_count": 7
    }
   ],
   "source": [
    "from scipy import stats\n",
    "stats.chi2.interval(1 - 0.05,1)"
   ]
  },
  {
   "source": [
    "Wartość statysyki nie należy do tego przedziału, zatem odrzucamy hipotezę zerową."
   ],
   "cell_type": "markdown",
   "metadata": {}
  }
 ]
}