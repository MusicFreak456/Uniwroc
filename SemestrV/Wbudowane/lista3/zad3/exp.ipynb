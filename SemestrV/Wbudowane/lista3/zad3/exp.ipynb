{
 "cells": [
  {
   "cell_type": "code",
   "execution_count": 62,
   "metadata": {},
   "outputs": [],
   "source": [
    "from numpy import linspace\n",
    "import math\n",
    "from matplotlib import pyplot"
   ]
  },
  {
   "cell_type": "code",
   "execution_count": 63,
   "metadata": {},
   "outputs": [],
   "source": [
    "exp_values = []\n",
    "number_of_values = 256\n",
    "lin = linspace(0,10,number_of_values);\n",
    "\n",
    "for i in lin:\n",
    "    exp_values.append(int(math.pow(2, i) - 1))\n",
    "\n",
    "# number_of_values = 256\n",
    "# max_output = 1000\n",
    "\n",
    "# for i in range(number_of_values):\n",
    "#     percent_perceived = i/(number_of_values - 1)\n",
    "#     exp_values.append(int((percent_perceived**2) * max_output))"
   ]
  },
  {
   "cell_type": "code",
   "execution_count": 64,
   "metadata": {},
   "outputs": [
    {
     "data": {
      "image/png": "[encoded data removed]",
      "text/plain": [
       "<Figure size 432x288 with 1 Axes>"
      ]
     },
     "metadata": {
      "needs_background": "light"
     },
     "output_type": "display_data"
    }
   ],
   "source": [
    "pyplot.plot(range(number_of_values),exp_values)\n",
    "pyplot.show()"
   ]
  },
  {
   "cell_type": "code",
   "execution_count": 65,
   "metadata": {},
   "outputs": [
    {
     "name": "stdout",
     "output_type": "stream",
     "text": [
      "const int16_t VALUES[256] = {\n",
      "  0,  0,  0,  0,  0,  0,  0,  0,  0,  0,  0,  0,  0,  0,  0,  0,  0,  0,  0,  0,  0,  0,  0,  0,  0,  0,  1,  1,  1,  1,  1,  1,  1,  1,  1,  1,  1,  1,  1,  1,  1,  2,  2,  2,  2,  2,  2,  2,  2,  2,  2,  3,  3,  3,  3,  3,  3,  3,  3,  3,  4,  4,  4,  4,  4,  4,  5,  5,  5,  5,  5,  5,  6,  6,  6,  6,  6,  7,  7,  7,  7,  8,  8,  8,  8,  9,  9,  9,  9,  10,  10,  10,  11,  11,  11,  12,  12,  12,  13,  13,  14,  14,  15,  15,  15,  16,  16,  17,  17,  18,  18,  19,  19,  20,  21,  21,  22,  23,  23,  24,  25,  25,  26,  27,  28,  28,  29,  30,  31,  32,  33,  34,  35,  36,  37,  38,  39,  40,  41,  42,  43,  45,  46,  47,  49,  50,  51,  53,  54,  56,  57,  59,  61,  63,  64,  66,  68,  70,  72,  74,  76,  78,  80,  82,  85,  87,  90,  92,  95,  97,  100,  103,  106,  109,  112,  115,  118,  121,  125,  128,  132,  136,  139,  143,  147,  151,  155,  160,  164,  169,  173,  178,  183,  188,  194,  199,  204,  210,  216,  222,  228,  234,  241,  248,  255,  262,  269,  276,  284,  292,  300,  308,  317,  325,  334,  344,  353,  363,  373,  383,  394,  405,  416,  428,  439,  452,  464,  477,  490,  504,  518,  532,  547,  562,  577,  593,  609,  626,  644,  661,  680,  698,  718,  737,  758,  779,  800,  822,  845,  868,  892,  917,  942,  968,  995,  1023,};\n"
     ]
    }
   ],
   "source": [
    "print(\"const int16_t VALUES[\" + str(number_of_values) + \"] = {\")\n",
    "\n",
    "for i in range(len(exp_values)):\n",
    "    print(\"  \" + str(exp_values[i]) + \",\",end=\"\")\n",
    "\n",
    "print(\"};\")"
   ]
  }
 ],
 "metadata": {
  "interpreter": {
   "hash": "916dbcbb3f70747c44a77c7bcd40155683ae19c65e1c03b4aa3499c5328201f1"
  },
  "kernelspec": {
   "display_name": "Python 3.8.10 64-bit",
   "name": "python3"
  },
  "language_info": {
   "codemirror_mode": {
    "name": "ipython",
    "version": 3
   },
   "file_extension": ".py",
   "mimetype": "text/x-python",
   "name": "python",
   "nbconvert_exporter": "python",
   "pygments_lexer": "ipython3",
   "version": "3.8.10"
  },
  "orig_nbformat": 4
 },
 "nbformat": 4,
 "nbformat_minor": 2
}
