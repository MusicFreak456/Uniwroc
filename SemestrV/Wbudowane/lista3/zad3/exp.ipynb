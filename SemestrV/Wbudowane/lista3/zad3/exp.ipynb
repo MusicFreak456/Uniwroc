{
 "cells": [
  {
   "cell_type": "code",
   "execution_count": 1,
   "metadata": {},
   "outputs": [],
   "source": [
    "from matplotlib import pyplot"
   ]
  },
  {
   "cell_type": "code",
   "execution_count": 2,
   "metadata": {},
   "outputs": [],
   "source": [
    "exp_values = []\n",
    "number_of_values = 256\n",
    "max_output = 1000\n",
    "\n",
    "for i in range(number_of_values):\n",
    "    percent_perceived = i/(number_of_values - 1)\n",
    "    exp_values.append(int((percent_perceived**2) * max_output))"
   ]
  },
  {
   "cell_type": "code",
   "execution_count": 3,
   "metadata": {},
   "outputs": [
    {
     "data": {
      "image/png": "[encoded data removed]",
      "text/plain": [
       "<Figure size 432x288 with 1 Axes>"
      ]
     },
     "metadata": {
      "needs_background": "light"
     },
     "output_type": "display_data"
    }
   ],
   "source": [
    "pyplot.plot(range(number_of_values),exp_values)\n",
    "pyplot.show()"
   ]
  },
  {
   "cell_type": "code",
   "execution_count": 4,
   "metadata": {},
   "outputs": [
    {
     "name": "stdout",
     "output_type": "stream",
     "text": [
      "const int16_t EXP_VALUES[256] = {\n",
      "  0,  0,  0,  0,  0,  0,  0,  0,  0,  1,  1,  1,  2,  2,  3,  3,  3,  4,  4,  5,  6,  6,  7,  8,  8,  9,  10,  11,  12,  12,  13,  14,  15,  16,  17,  18,  19,  21,  22,  23,  24,  25,  27,  28,  29,  31,  32,  33,  35,  36,  38,  40,  41,  43,  44,  46,  48,  49,  51,  53,  55,  57,  59,  61,  62,  64,  66,  69,  71,  73,  75,  77,  79,  81,  84,  86,  88,  91,  93,  95,  98,  100,  103,  105,  108,  111,  113,  116,  119,  121,  124,  127,  130,  133,  135,  138,  141,  144,  147,  150,  153,  156,  160,  163,  166,  169,  172,  176,  179,  182,  186,  189,  192,  196,  199,  203,  206,  210,  214,  217,  221,  225,  228,  232,  236,  240,  244,  248,  251,  255,  259,  263,  267,  272,  276,  280,  284,  288,  292,  297,  301,  305,  310,  314,  318,  323,  327,  332,  336,  341,  346,  350,  355,  360,  364,  369,  374,  379,  383,  388,  393,  398,  403,  408,  413,  418,  423,  428,  434,  439,  444,  449,  454,  460,  465,  470,  476,  481,  487,  492,  498,  503,  509,  515,  520,  526,  532,  537,  543,  549,  555,  561,  566,  572,  578,  584,  590,  596,  602,  609,  615,  621,  627,  633,  640,  646,  652,  658,  665,  671,  678,  684,  691,  697,  704,  710,  717,  724,  730,  737,  744,  751,  757,  764,  771,  778,  785,  792,  799,  806,  813,  820,  827,  834,  842,  849,  856,  863,  871,  878,  885,  893,  900,  908,  915,  923,  930,  938,  945,  953,  961,  968,  976,  984,  992,  1000,};\n"
     ]
    }
   ],
   "source": [
    "print(\"const int16_t EXP_VALUES[\" + str(number_of_values) + \"] = {\")\n",
    "\n",
    "for i in range(len(exp_values)):\n",
    "    print(\"  \" + str(exp_values[i]) + \",\",end=\"\")\n",
    "\n",
    "print(\"};\")"
   ]
  }
 ],
 "metadata": {
  "interpreter": {
   "hash": "916dbcbb3f70747c44a77c7bcd40155683ae19c65e1c03b4aa3499c5328201f1"
  },
  "kernelspec": {
   "display_name": "Python 3.8.10 64-bit",
   "name": "python3"
  },
  "language_info": {
   "codemirror_mode": {
    "name": "ipython",
    "version": 3
   },
   "file_extension": ".py",
   "mimetype": "text/x-python",
   "name": "python",
   "nbconvert_exporter": "python",
   "pygments_lexer": "ipython3",
   "version": "3.8.10"
  },
  "orig_nbformat": 4
 },
 "nbformat": 4,
 "nbformat_minor": 2
}
