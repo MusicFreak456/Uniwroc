{
 "cells": [
  {
   "cell_type": "code",
   "execution_count": 7,
   "metadata": {},
   "outputs": [],
   "source": [
    "from numpy import linspace\n",
    "import math\n",
    "from matplotlib import pyplot"
   ]
  },
  {
   "cell_type": "code",
   "execution_count": 8,
   "metadata": {},
   "outputs": [],
   "source": [
    "exp_values = []\n",
    "number_of_values = 256\n",
    "lin = linspace(0,8,number_of_values);\n",
    "\n",
    "for i in lin:\n",
    "    exp_values.append(int(math.pow(2, i) - 1))\n",
    "\n",
    "# number_of_values = 256\n",
    "# max_output = 1000\n",
    "\n",
    "# for i in range(number_of_values):\n",
    "#     percent_perceived = i/(number_of_values - 1)\n",
    "#     exp_values.append(int((percent_perceived**2) * max_output))"
   ]
  },
  {
   "cell_type": "code",
   "execution_count": 9,
   "metadata": {},
   "outputs": [
    {
     "data": {
      "image/png": "[encoded data removed]",
      "text/plain": [
       "<Figure size 432x288 with 1 Axes>"
      ]
     },
     "metadata": {
      "needs_background": "light"
     },
     "output_type": "display_data"
    }
   ],
   "source": [
    "pyplot.plot(range(number_of_values),exp_values)\n",
    "pyplot.show()"
   ]
  },
  {
   "cell_type": "code",
   "execution_count": 10,
   "metadata": {},
   "outputs": [
    {
     "name": "stdout",
     "output_type": "stream",
     "text": [
      "const int16_t VALUES[256] = {\n",
      "  0,  0,  0,  0,  0,  0,  0,  0,  0,  0,  0,  0,  0,  0,  0,  0,  0,  0,  0,  0,  0,  0,  0,  0,  0,  0,  0,  0,  0,  0,  0,  0,  1,  1,  1,  1,  1,  1,  1,  1,  1,  1,  1,  1,  1,  1,  1,  1,  1,  1,  1,  2,  2,  2,  2,  2,  2,  2,  2,  2,  2,  2,  2,  2,  3,  3,  3,  3,  3,  3,  3,  3,  3,  3,  3,  4,  4,  4,  4,  4,  4,  4,  4,  5,  5,  5,  5,  5,  5,  5,  6,  6,  6,  6,  6,  6,  7,  7,  7,  7,  7,  7,  8,  8,  8,  8,  9,  9,  9,  9,  9,  10,  10,  10,  10,  11,  11,  11,  12,  12,  12,  12,  13,  13,  13,  14,  14,  14,  15,  15,  15,  16,  16,  17,  17,  17,  18,  18,  19,  19,  19,  20,  20,  21,  21,  22,  22,  23,  23,  24,  25,  25,  26,  26,  27,  28,  28,  29,  30,  30,  31,  32,  32,  33,  34,  35,  35,  36,  37,  38,  39,  40,  41,  42,  42,  43,  44,  45,  46,  48,  49,  50,  51,  52,  53,  54,  56,  57,  58,  59,  61,  62,  64,  65,  66,  68,  69,  71,  73,  74,  76,  78,  79,  81,  83,  85,  87,  89,  91,  93,  95,  97,  99,  101,  103,  106,  108,  111,  113,  116,  118,  121,  123,  126,  129,  132,  135,  138,  141,  144,  147,  150,  154,  157,  161,  164,  168,  172,  175,  179,  183,  187,  191,  196,  200,  204,  209,  214,  218,  223,  228,  233,  238,  244,  249,  255,};\n"
     ]
    }
   ],
   "source": [
    "print(\"const int16_t VALUES[\" + str(number_of_values) + \"] = {\")\n",
    "\n",
    "for i in range(len(exp_values)):\n",
    "    print(\"  \" + str(exp_values[i]) + \",\",end=\"\")\n",
    "\n",
    "print(\"};\")"
   ]
  },
  {
   "cell_type": "code",
   "execution_count": 11,
   "metadata": {},
   "outputs": [],
   "source": [
    "sin_x = list(linspace(0, math.pi / 2, num=(number_of_values)));\n",
    "sin_x = list(map(lambda x: int((number_of_values - 1) *  math.sin(x)), sin_x))"
   ]
  },
  {
   "cell_type": "code",
   "execution_count": 12,
   "metadata": {},
   "outputs": [
    {
     "name": "stdout",
     "output_type": "stream",
     "text": [
      "const int16_t SIN[256] = {\n",
      "  0,  1,  3,  4,  6,  7,  9,  10,  12,  14,  15,  17,  18,  20,  21,  23,  25,  26,  28,  29,  31,  32,  34,  36,  37,  39,  40,  42,  43,  45,  46,  48,  49,  51,  53,  54,  56,  57,  59,  60,  62,  63,  65,  66,  68,  69,  71,  72,  74,  75,  77,  78,  80,  81,  83,  84,  86,  87,  89,  90,  92,  93,  95,  96,  97,  99,  100,  102,  103,  105,  106,  108,  109,  110,  112,  113,  115,  116,  117,  119,  120,  122,  123,  124,  126,  127,  128,  130,  131,  132,  134,  135,  136,  138,  139,  140,  142,  143,  144,  146,  147,  148,  149,  151,  152,  153,  154,  156,  157,  158,  159,  161,  162,  163,  164,  165,  167,  168,  169,  170,  171,  172,  174,  175,  176,  177,  178,  179,  180,  181,  183,  184,  185,  186,  187,  188,  189,  190,  191,  192,  193,  194,  195,  196,  197,  198,  199,  200,  201,  202,  203,  204,  205,  206,  207,  208,  209,  209,  210,  211,  212,  213,  214,  215,  215,  216,  217,  218,  219,  220,  220,  221,  222,  223,  223,  224,  225,  226,  226,  227,  228,  228,  229,  230,  230,  231,  232,  232,  233,  234,  234,  235,  236,  236,  237,  237,  238,  238,  239,  239,  240,  241,  241,  242,  242,  243,  243,  243,  244,  244,  245,  245,  246,  246,  246,  247,  247,  248,  248,  248,  249,  249,  249,  250,  250,  250,  250,  251,  251,  251,  251,  252,  252,  252,  252,  253,  253,  253,  253,  253,  253,  254,  254,  254,  254,  254,  254,  254,  254,  254,  254,  254,  254,  254,  254,  255,};\n"
     ]
    }
   ],
   "source": [
    "print(\"const int16_t SIN[\" + str(number_of_values) + \"] = {\")\n",
    "\n",
    "for i in range(len(sin_x)):\n",
    "    print(\"  \" + str(sin_x[i]) + \",\",end=\"\")\n",
    "\n",
    "print(\"};\")"
   ]
  }
 ],
 "metadata": {
  "interpreter": {
   "hash": "916dbcbb3f70747c44a77c7bcd40155683ae19c65e1c03b4aa3499c5328201f1"
  },
  "kernelspec": {
   "display_name": "Python 3.8.10 64-bit",
   "name": "python3"
  },
  "language_info": {
   "codemirror_mode": {
    "name": "ipython",
    "version": 3
   },
   "file_extension": ".py",
   "mimetype": "text/x-python",
   "name": "python",
   "nbconvert_exporter": "python",
   "pygments_lexer": "ipython3",
   "version": "3.8.10"
  },
  "orig_nbformat": 4
 },
 "nbformat": 4,
 "nbformat_minor": 2
}
