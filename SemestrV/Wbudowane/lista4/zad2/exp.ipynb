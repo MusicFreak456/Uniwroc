{
 "cells": [
  {
   "cell_type": "code",
   "execution_count": 4,
   "metadata": {},
   "outputs": [],
   "source": [
    "from numpy import linspace\n",
    "import math\n",
    "from matplotlib import pyplot"
   ]
  },
  {
   "cell_type": "code",
   "execution_count": 5,
   "metadata": {},
   "outputs": [],
   "source": [
    "exp_values = []\n",
    "number_of_values = 256\n",
    "lin = linspace(0,10,number_of_values);\n",
    "\n",
    "for i in lin:\n",
    "    exp_values.append(int(math.pow(2, i) - 1))\n",
    "\n",
    "exp_values.reverse()\n",
    "\n",
    "# number_of_values = 256\n",
    "# max_output = 1000\n",
    "\n",
    "# for i in range(number_of_values):\n",
    "#     percent_perceived = i/(number_of_values - 1)\n",
    "#     exp_values.append(int((percent_perceived**2) * max_output))"
   ]
  },
  {
   "cell_type": "code",
   "execution_count": 6,
   "metadata": {},
   "outputs": [
    {
     "data": {
      "image/png": "[encoded data removed]",
      "text/plain": [
       "<Figure size 432x288 with 1 Axes>"
      ]
     },
     "metadata": {
      "needs_background": "light"
     },
     "output_type": "display_data"
    }
   ],
   "source": [
    "pyplot.plot(range(number_of_values),exp_values)\n",
    "pyplot.show()"
   ]
  },
  {
   "cell_type": "code",
   "execution_count": 7,
   "metadata": {},
   "outputs": [
    {
     "name": "stdout",
     "output_type": "stream",
     "text": [
      "const int16_t VALUES[256] = {\n",
      "  1023,  995,  968,  942,  917,  892,  868,  845,  822,  800,  779,  758,  737,  718,  698,  680,  661,  644,  626,  609,  593,  577,  562,  547,  532,  518,  504,  490,  477,  464,  452,  439,  428,  416,  405,  394,  383,  373,  363,  353,  344,  334,  325,  317,  308,  300,  292,  284,  276,  269,  262,  255,  248,  241,  234,  228,  222,  216,  210,  204,  199,  194,  188,  183,  178,  173,  169,  164,  160,  155,  151,  147,  143,  139,  136,  132,  128,  125,  121,  118,  115,  112,  109,  106,  103,  100,  97,  95,  92,  90,  87,  85,  82,  80,  78,  76,  74,  72,  70,  68,  66,  64,  63,  61,  59,  57,  56,  54,  53,  51,  50,  49,  47,  46,  45,  43,  42,  41,  40,  39,  38,  37,  36,  35,  34,  33,  32,  31,  30,  29,  28,  28,  27,  26,  25,  25,  24,  23,  23,  22,  21,  21,  20,  19,  19,  18,  18,  17,  17,  16,  16,  15,  15,  15,  14,  14,  13,  13,  12,  12,  12,  11,  11,  11,  10,  10,  10,  9,  9,  9,  9,  8,  8,  8,  8,  7,  7,  7,  7,  6,  6,  6,  6,  6,  5,  5,  5,  5,  5,  5,  4,  4,  4,  4,  4,  4,  3,  3,  3,  3,  3,  3,  3,  3,  3,  2,  2,  2,  2,  2,  2,  2,  2,  2,  2,  1,  1,  1,  1,  1,  1,  1,  1,  1,  1,  1,  1,  1,  1,  1,  0,  0,  0,  0,  0,  0,  0,  0,  0,  0,  0,  0,  0,  0,  0,  0,  0,  0,  0,  0,  0,  0,  0,  0,  0,  0,};\n"
     ]
    }
   ],
   "source": [
    "print(\"const int16_t VALUES[\" + str(number_of_values) + \"] = {\")\n",
    "\n",
    "for i in range(len(exp_values)):\n",
    "    print(\"  \" + str(exp_values[i]) + \",\",end=\"\")\n",
    "\n",
    "print(\"};\")"
   ]
  }
 ],
 "metadata": {
  "interpreter": {
   "hash": "916dbcbb3f70747c44a77c7bcd40155683ae19c65e1c03b4aa3499c5328201f1"
  },
  "kernelspec": {
   "display_name": "Python 3.8.10 64-bit",
   "name": "python3"
  },
  "language_info": {
   "codemirror_mode": {
    "name": "ipython",
    "version": 3
   },
   "file_extension": ".py",
   "mimetype": "text/x-python",
   "name": "python",
   "nbconvert_exporter": "python",
   "pygments_lexer": "ipython3",
   "version": "3.8.10"
  },
  "orig_nbformat": 4
 },
 "nbformat": 4,
 "nbformat_minor": 2
}
